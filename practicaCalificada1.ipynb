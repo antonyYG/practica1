{
  "nbformat": 4,
  "nbformat_minor": 0,
  "metadata": {
    "colab": {
      "provenance": [],
      "authorship_tag": "ABX9TyMjzp6mcstcaElv90Jm2yNR",
      "include_colab_link": true
    },
    "kernelspec": {
      "name": "python3",
      "display_name": "Python 3"
    },
    "language_info": {
      "name": "python"
    }
  },
  "cells": [
    {
      "cell_type": "markdown",
      "metadata": {
        "id": "view-in-github",
        "colab_type": "text"
      },
      "source": [
        "<a href=\"https://colab.research.google.com/github/antonyYG/practica1/blob/main/practicaCalificada1.ipynb\" target=\"_parent\"><img src=\"https://colab.research.google.com/assets/colab-badge.svg\" alt=\"Open In Colab\"/></a>"
      ]
    },
    {
      "cell_type": "markdown",
      "source": [
        "Ejercicio 1"
      ],
      "metadata": {
        "id": "doKlmzuGeVrM"
      }
    },
    {
      "cell_type": "code",
      "execution_count": 2,
      "metadata": {
        "id": "vfJuJjRed5eG"
      },
      "outputs": [],
      "source": [
        "import numpy as np\n"
      ]
    },
    {
      "cell_type": "markdown",
      "source": [
        "1.1"
      ],
      "metadata": {
        "id": "-cmsREDFeaJ8"
      }
    },
    {
      "cell_type": "code",
      "source": [
        "vector = np.arange(1,21)\n",
        "print(vector)"
      ],
      "metadata": {
        "colab": {
          "base_uri": "https://localhost:8080/"
        },
        "id": "QqjJVE4WeUvd",
        "outputId": "f302f2dc-6834-4e4f-f354-c1bd37cf96a1"
      },
      "execution_count": 5,
      "outputs": [
        {
          "output_type": "stream",
          "name": "stdout",
          "text": [
            "[ 1  2  3  4  5  6  7  8  9 10 11 12 13 14 15 16 17 18 19 20]\n"
          ]
        }
      ]
    },
    {
      "cell_type": "markdown",
      "source": [
        "1.2"
      ],
      "metadata": {
        "id": "dh6dEYLZe7hF"
      }
    },
    {
      "cell_type": "code",
      "source": [
        "vector = np.random.rand(9)\n",
        "print(vector)\n",
        "vector.reshape(3,3)"
      ],
      "metadata": {
        "colab": {
          "base_uri": "https://localhost:8080/"
        },
        "id": "dpi-ca8qe6qE",
        "outputId": "6a7bdd3a-43a1-4661-fd85-22a70750e2ee"
      },
      "execution_count": 26,
      "outputs": [
        {
          "output_type": "stream",
          "name": "stdout",
          "text": [
            "[0.90923215 0.15301478 0.26064489 0.54608415 0.12425173 0.83208757\n",
            " 0.48597967 0.54555289 0.02389439]\n"
          ]
        },
        {
          "output_type": "execute_result",
          "data": {
            "text/plain": [
              "array([[0.90923215, 0.15301478, 0.26064489],\n",
              "       [0.54608415, 0.12425173, 0.83208757],\n",
              "       [0.48597967, 0.54555289, 0.02389439]])"
            ]
          },
          "metadata": {},
          "execution_count": 26
        }
      ]
    },
    {
      "cell_type": "markdown",
      "source": [
        "1.3"
      ],
      "metadata": {
        "id": "TI7r8fy-i33r"
      }
    },
    {
      "cell_type": "code",
      "source": [
        "vector = np.random.randint(0,10,16)\n",
        "print(vector.reshape(4,4))\n",
        "vector.reshape(2,8)"
      ],
      "metadata": {
        "colab": {
          "base_uri": "https://localhost:8080/"
        },
        "id": "fYSFWRM4haYl",
        "outputId": "4924860e-8993-47dd-a711-2846388815b8"
      },
      "execution_count": 29,
      "outputs": [
        {
          "output_type": "stream",
          "name": "stdout",
          "text": [
            "[[5 7 2 1]\n",
            " [9 1 4 6]\n",
            " [2 2 8 1]\n",
            " [3 8 5 1]]\n"
          ]
        },
        {
          "output_type": "execute_result",
          "data": {
            "text/plain": [
              "array([[5, 7, 2, 1, 9, 1, 4, 6],\n",
              "       [2, 2, 8, 1, 3, 8, 5, 1]])"
            ]
          },
          "metadata": {},
          "execution_count": 29
        }
      ]
    },
    {
      "cell_type": "markdown",
      "source": [
        "1.4"
      ],
      "metadata": {
        "id": "bgY67U0ci6vS"
      }
    },
    {
      "cell_type": "code",
      "source": [
        "array= np.random.rand(10)\n",
        "array"
      ],
      "metadata": {
        "colab": {
          "base_uri": "https://localhost:8080/"
        },
        "id": "SLWmFHE1iGcb",
        "outputId": "d89097f1-e931-4b37-83ed-6be6746c57a6"
      },
      "execution_count": 40,
      "outputs": [
        {
          "output_type": "execute_result",
          "data": {
            "text/plain": [
              "array([0.21700159, 0.81838675, 0.61865056, 0.29604266, 0.41811475,\n",
              "       0.87151052, 0.09672467, 0.83335662, 0.05623687, 0.28762495])"
            ]
          },
          "metadata": {},
          "execution_count": 40
        }
      ]
    },
    {
      "cell_type": "markdown",
      "source": [
        "1.5"
      ],
      "metadata": {
        "id": "0zDSSL5ei-pi"
      }
    },
    {
      "cell_type": "code",
      "source": [
        "vector1 = np.random.randint(0,10,10)\n",
        "vector2 = np.random.randint(0,10,10)\n",
        "array = vector1.reshape(2,5)\n",
        "array2 = vector2.reshape(2,5)\n",
        "concatenar = np.concatenate((array,array2),axis=0)\n",
        "print(concatenar)"
      ],
      "metadata": {
        "colab": {
          "base_uri": "https://localhost:8080/"
        },
        "id": "8mt5g8mzi-cy",
        "outputId": "4fe54f4c-44ba-4caa-9898-530c39a6562b"
      },
      "execution_count": 52,
      "outputs": [
        {
          "output_type": "stream",
          "name": "stdout",
          "text": [
            "[[0 2 5 9 7]\n",
            " [2 3 4 9 3]\n",
            " [0 0 6 1 4]\n",
            " [8 2 8 9 2]]\n"
          ]
        }
      ]
    },
    {
      "cell_type": "markdown",
      "source": [
        "Ejercicio 2"
      ],
      "metadata": {
        "id": "lbtP9dMPjdYa"
      }
    },
    {
      "cell_type": "markdown",
      "source": [
        "1.1"
      ],
      "metadata": {
        "id": "9orh2Fahjioq"
      }
    },
    {
      "cell_type": "code",
      "source": [
        "vector1 = np.random.randint(1,10,9)\n",
        "vector2 = np.random.randint(1,10,9)\n",
        "print(\"Suma\", vector1 + vector2)\n",
        "print(\"resta\", vector1 - vector2)\n",
        "print(\"multiplicaciom\", vector1 * vector2)\n",
        "print(\"Division\", vector1 / vector2)"
      ],
      "metadata": {
        "colab": {
          "base_uri": "https://localhost:8080/"
        },
        "id": "Tfyk7NcNjdFD",
        "outputId": "73b7c43e-91d9-432f-a85d-b0880ce885f8"
      },
      "execution_count": 67,
      "outputs": [
        {
          "output_type": "stream",
          "name": "stdout",
          "text": [
            "Suma [15 10  9 12 12 15 13 12 14]\n",
            "resta [-3 -8 -7  6 -4 -3  1  6  2]\n",
            "multiplicaciom [54  9  8 27 32 54 42 27 48]\n",
            "Division [0.66666667 0.11111111 0.125      3.         0.5        0.66666667\n",
            " 1.16666667 3.         1.33333333]\n"
          ]
        }
      ]
    },
    {
      "cell_type": "markdown",
      "source": [
        "1.2"
      ],
      "metadata": {
        "id": "-Q-38GTEluqS"
      }
    },
    {
      "cell_type": "code",
      "source": [
        "vector1 = np.random.randint(1,10,9)\n",
        "print(vector1)\n",
        "mediana=np.median(vector1)\n",
        "media=np.mean(vector1)\n",
        "var=np.std(vector1)\n",
        "print(\"mediana\",mediana)\n",
        "print(\"media\",media)\n",
        "print(\"varianza\",var)"
      ],
      "metadata": {
        "colab": {
          "base_uri": "https://localhost:8080/"
        },
        "id": "5t69OkPrlvah",
        "outputId": "056e1623-2ee4-4620-fa09-c3f127830c87"
      },
      "execution_count": 69,
      "outputs": [
        {
          "output_type": "stream",
          "name": "stdout",
          "text": [
            "[8 1 2 5 4 1 5 2 9]\n",
            "mediana 4.0\n",
            "media 4.111111111111111\n",
            "varianza 2.7666443551086073\n"
          ]
        }
      ]
    },
    {
      "cell_type": "markdown",
      "source": [
        "1.3"
      ],
      "metadata": {
        "id": "N4MPd85RmGI7"
      }
    },
    {
      "cell_type": "code",
      "source": [
        "vector = np.random.randint(1,50,4)\n",
        "print(vector)\n",
        "max = np.max(vector)\n",
        "division = np.divide(vector,max)\n",
        "print(division)"
      ],
      "metadata": {
        "colab": {
          "base_uri": "https://localhost:8080/"
        },
        "id": "6SIowHofmG36",
        "outputId": "e369b6d9-7b85-4133-ceba-5906f9f9a30a"
      },
      "execution_count": 71,
      "outputs": [
        {
          "output_type": "stream",
          "name": "stdout",
          "text": [
            "[29 27 28 25]\n",
            "[1.         0.93103448 0.96551724 0.86206897]\n"
          ]
        }
      ]
    },
    {
      "cell_type": "markdown",
      "source": [
        "1.4"
      ],
      "metadata": {
        "id": "Es43-MBDmeHa"
      }
    },
    {
      "cell_type": "code",
      "source": [
        "vector = np.random.randint(1,20,4)\n",
        "print(vector)\n",
        "\n",
        "# Find the index of the maximum value\n",
        "index_of_max = np.argmin(vector)\n",
        "print(\"Index of maximum value:\", index_of_max)\n"
      ],
      "metadata": {
        "colab": {
          "base_uri": "https://localhost:8080/"
        },
        "id": "ZTrHJH5dnUCR",
        "outputId": "fdce632a-e67e-4f0b-ec0c-9e9fd88be2bb"
      },
      "execution_count": 86,
      "outputs": [
        {
          "output_type": "stream",
          "name": "stdout",
          "text": [
            "[ 8 11 14 17]\n",
            "Index of maximum value: 0\n"
          ]
        }
      ]
    },
    {
      "cell_type": "code",
      "metadata": {
        "colab": {
          "base_uri": "https://localhost:8080/"
        },
        "id": "N77RKVHkme5y",
        "outputId": "726fba6f-8822-41d6-ff33-7669230c7e28"
      },
      "source": [
        "vector = np.random.randint(1,20,4)\n",
        "print(vector)\n",
        "\n",
        "max_value = np.max(vector)\n",
        "index_of_max = np.argmax(vector)\n",
        "print(\"Maximo valor:\", max_value)\n",
        "print(\"Indice:\", index_of_max)\n",
        "\n",
        "min_value = np.min(vector)\n",
        "index_of_min = np.argmin(vector)\n",
        "print(\"Minimo valor:\", min_value)\n",
        "print(\"Indice:\", index_of_min)"
      ],
      "execution_count": 88,
      "outputs": [
        {
          "output_type": "stream",
          "name": "stdout",
          "text": [
            "[15  7  5 15]\n",
            "Maximo valor: 15\n",
            "Indice: 0\n",
            "Minimo valor: 5\n",
            "Indice: 2\n"
          ]
        }
      ]
    },
    {
      "cell_type": "markdown",
      "source": [
        "1.5"
      ],
      "metadata": {
        "id": "Mkup9wDUnuvR"
      }
    },
    {
      "cell_type": "code",
      "source": [
        "matri1 = np.random.randint(1,10,9)\n",
        "matri2 = np.random.randint(1,10,9)\n",
        "matri1 = matri1.reshape(3,3)\n",
        "matri2 = matri2.reshape(3,3)\n",
        "print(matri1)\n",
        "print(matri2)\n",
        "print(\"Multiplicacion \")\n",
        "print( matri1 * matri2)"
      ],
      "metadata": {
        "colab": {
          "base_uri": "https://localhost:8080/"
        },
        "id": "ICHoPMT9nv6a",
        "outputId": "0e1e2d82-be81-4e4f-847c-15d8296c1ab2"
      },
      "execution_count": 101,
      "outputs": [
        {
          "output_type": "stream",
          "name": "stdout",
          "text": [
            "[[6 6 5]\n",
            " [1 7 5]\n",
            " [3 8 2]]\n",
            "[[8 5 5]\n",
            " [4 7 8]\n",
            " [4 9 1]]\n",
            "Multiplicacion \n",
            "[[48 30 25]\n",
            " [ 4 49 40]\n",
            " [12 72  2]]\n"
          ]
        }
      ]
    },
    {
      "cell_type": "markdown",
      "source": [
        "Ejercicio 3"
      ],
      "metadata": {
        "id": "UMMVgz82n9Dh"
      }
    },
    {
      "cell_type": "markdown",
      "source": [
        "1.1"
      ],
      "metadata": {
        "id": "AoO4SgcOoC3h"
      }
    },
    {
      "cell_type": "code",
      "source": [
        "pares ={}\n",
        "vector = np.random.randint(1,20,10)\n",
        "for i in range(len(vector)):\n",
        "    if vector[i] % 2 == 0:\n",
        "        pares[i] = int(vector[i])\n",
        "\n",
        "print(vector)\n",
        "print(pares)"
      ],
      "metadata": {
        "colab": {
          "base_uri": "https://localhost:8080/"
        },
        "id": "AgiIc-zWn9Rx",
        "outputId": "9eb1dc56-9ac5-4acd-e1b2-1ff978c99cfb"
      },
      "execution_count": 99,
      "outputs": [
        {
          "output_type": "stream",
          "name": "stdout",
          "text": [
            "[10 17 19 13 17 14 15 10 18 17]\n",
            "{0: 10, 5: 14, 7: 10, 8: 18}\n"
          ]
        }
      ]
    },
    {
      "cell_type": "markdown",
      "source": [
        "1.2"
      ],
      "metadata": {
        "id": "Jvarqaa5othh"
      }
    },
    {
      "cell_type": "code",
      "source": [
        "mayores= {}\n",
        "vector = np.random.randint(1,20,10)\n",
        "for i in range(len(vector)):\n",
        "    if vector[i] > 5:\n",
        "        mayores[i] = int(vector[i])\n",
        "print(vector)\n",
        "print(mayores)"
      ],
      "metadata": {
        "colab": {
          "base_uri": "https://localhost:8080/"
        },
        "id": "FcJU1DSAoupx",
        "outputId": "7636348e-cb11-48c9-af9c-92be4e5ce6d6"
      },
      "execution_count": 103,
      "outputs": [
        {
          "output_type": "stream",
          "name": "stdout",
          "text": [
            "[ 5 14 16  3  4 18  5 13 15  4]\n",
            "{1: 14, 2: 16, 5: 18, 7: 13, 8: 15}\n"
          ]
        }
      ]
    },
    {
      "cell_type": "markdown",
      "source": [
        "1.3"
      ],
      "metadata": {
        "id": "ygjxQCY5pKRZ"
      }
    },
    {
      "cell_type": "code",
      "source": [
        "iguales_cer={}\n",
        "vector = np.random.randint(0,20,10)\n",
        "for i in range(len(vector)):\n",
        "    if vector[i] == 0:\n",
        "        iguales_cer[i] = int(vector[i])\n",
        "print(vector)\n",
        "print(iguales_cer)"
      ],
      "metadata": {
        "colab": {
          "base_uri": "https://localhost:8080/"
        },
        "id": "Gf0KgFjxpLF4",
        "outputId": "105ea694-cf0b-49db-fdbb-f3be4313e81f"
      },
      "execution_count": 113,
      "outputs": [
        {
          "output_type": "stream",
          "name": "stdout",
          "text": [
            "[11 18  5  4  1  0 13  7  9 18]\n",
            "{5: 0}\n"
          ]
        }
      ]
    },
    {
      "cell_type": "markdown",
      "source": [
        "1.4"
      ],
      "metadata": {
        "id": "FXLMGAvipbgg"
      }
    },
    {
      "cell_type": "code",
      "source": [
        "negetivos = {}\n",
        "vector = np.random.randint(-20,20,10)\n",
        "for i in range(len(vector)):\n",
        "    if vector[i] < 0:\n",
        "        negetivos[i] = int(vector[i])\n",
        "print(vector)\n",
        "print(negetivos)"
      ],
      "metadata": {
        "colab": {
          "base_uri": "https://localhost:8080/"
        },
        "id": "ODazDQG0pcba",
        "outputId": "f1cf4a01-6155-4ff8-ebd8-f84e0df0a119"
      },
      "execution_count": 114,
      "outputs": [
        {
          "output_type": "stream",
          "name": "stdout",
          "text": [
            "[ 18  14  -8   8  12  -2  10   9 -12  10]\n",
            "{2: -8, 5: -2, 8: -12}\n"
          ]
        }
      ]
    },
    {
      "cell_type": "markdown",
      "source": [
        "1.5"
      ],
      "metadata": {
        "id": "7Cyk26gxpl7R"
      }
    },
    {
      "cell_type": "code",
      "source": [
        "mayores_cincuenta = {}\n",
        "\n",
        "vector = np.random.randint(0,100,10)\n",
        "\n",
        "for i in range(len(vector)):\n",
        "    if vector[i] > 50:\n",
        "        mayores_cincuenta[i] = int(vector[i])\n",
        "\n",
        "print(vector)\n",
        "media = np.mean(list(mayores_cincuenta.values()))\n",
        "print(mayores_cincuenta)\n",
        "print(media)"
      ],
      "metadata": {
        "colab": {
          "base_uri": "https://localhost:8080/"
        },
        "id": "siT_pj5EpmoJ",
        "outputId": "3129af33-ab22-4d1c-a7d7-49bd22b034fc"
      },
      "execution_count": 120,
      "outputs": [
        {
          "output_type": "stream",
          "name": "stdout",
          "text": [
            "[81 12 10  3 26 17 44 78 80 79]\n",
            "{0: 81, 7: 78, 8: 80, 9: 79}\n",
            "79.5\n"
          ]
        }
      ]
    },
    {
      "cell_type": "code",
      "source": [
        "vector = np.random.randint(0,100,10)\n",
        "print(vector)\n",
        "for i in range(len(vector)):\n",
        "    if vector[i] > 5:\n",
        "       vector[i] = 0\n",
        "print(vector)"
      ],
      "metadata": {
        "colab": {
          "base_uri": "https://localhost:8080/"
        },
        "id": "a8TTlKzOqTMR",
        "outputId": "69db4eb0-facf-4a07-9aea-94911b5bfa79"
      },
      "execution_count": 121,
      "outputs": [
        {
          "output_type": "stream",
          "name": "stdout",
          "text": [
            "[50 91  2 50 99 28 91  3 32 16]\n",
            "[0 0 2 0 0 0 0 3 0 0]\n"
          ]
        }
      ]
    },
    {
      "cell_type": "markdown",
      "source": [],
      "metadata": {
        "id": "r3rptoeBqnKC"
      }
    }
  ]
}